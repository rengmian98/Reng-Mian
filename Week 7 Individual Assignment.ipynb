{
 "cells": [
  {
   "cell_type": "code",
   "execution_count": 2,
   "metadata": {},
   "outputs": [],
   "source": [
    "import pandas as pd"
   ]
  },
  {
   "cell_type": "code",
   "execution_count": 3,
   "metadata": {},
   "outputs": [],
   "source": [
    "df = pd.read_csv(\"Credit Card Default II (balance).csv\")"
   ]
  },
  {
   "cell_type": "code",
   "execution_count": 4,
   "metadata": {},
   "outputs": [
    {
     "name": "stdout",
     "output_type": "stream",
     "text": [
      "            income        age          loan  default\n",
      "0     66155.925100  59.017015   8106.532131        0\n",
      "1     34415.153970  48.117153   6564.745018        0\n",
      "2     57317.170060  63.108049   8020.953296        0\n",
      "3     42709.534200  45.751972   6103.642260        0\n",
      "4     66952.688850  18.584336   8770.099235        1\n",
      "...            ...        ...           ...      ...\n",
      "3423  60903.191726  21.933924  10367.081892        1\n",
      "3424  62235.644695  25.033016   8083.900063        1\n",
      "3425  25597.850590  26.350344   3810.110335        1\n",
      "3426  48164.194974  23.141976   6529.652892        1\n",
      "3427  33055.808635  26.289612   5351.851138        1\n",
      "\n",
      "[3428 rows x 4 columns]\n"
     ]
    }
   ],
   "source": [
    "print(df)"
   ]
  },
  {
   "cell_type": "code",
   "execution_count": 6,
   "metadata": {},
   "outputs": [
    {
     "name": "stdout",
     "output_type": "stream",
     "text": [
      "income     0\n",
      "age        0\n",
      "loan       0\n",
      "default    0\n",
      "dtype: int64\n"
     ]
    }
   ],
   "source": [
    "print(df.isnull().sum().sort_values()) #no null values"
   ]
  },
  {
   "cell_type": "code",
   "execution_count": 7,
   "metadata": {},
   "outputs": [
    {
     "data": {
      "text/plain": [
       "income     float64\n",
       "age        float64\n",
       "loan       float64\n",
       "default      int64\n",
       "dtype: object"
      ]
     },
     "execution_count": 7,
     "metadata": {},
     "output_type": "execute_result"
    }
   ],
   "source": [
    "df.dtypes"
   ]
  },
  {
   "cell_type": "code",
   "execution_count": 15,
   "metadata": {},
   "outputs": [],
   "source": [
    "import numpy as np\n",
    "from scipy import stats\n",
    "z = stats.zscore(df.astype(np.float64))\n",
    "z = np.abs(z) \n",
    "f = (z < 3).all(axis=1)\n",
    "df = df[f]\n",
    "\n"
   ]
  },
  {
   "cell_type": "code",
   "execution_count": 16,
   "metadata": {},
   "outputs": [
    {
     "data": {
      "text/html": [
       "<div>\n",
       "<style scoped>\n",
       "    .dataframe tbody tr th:only-of-type {\n",
       "        vertical-align: middle;\n",
       "    }\n",
       "\n",
       "    .dataframe tbody tr th {\n",
       "        vertical-align: top;\n",
       "    }\n",
       "\n",
       "    .dataframe thead th {\n",
       "        text-align: right;\n",
       "    }\n",
       "</style>\n",
       "<table border=\"1\" class=\"dataframe\">\n",
       "  <thead>\n",
       "    <tr style=\"text-align: right;\">\n",
       "      <th></th>\n",
       "      <th>income</th>\n",
       "      <th>age</th>\n",
       "      <th>loan</th>\n",
       "      <th>default</th>\n",
       "    </tr>\n",
       "  </thead>\n",
       "  <tbody>\n",
       "    <tr>\n",
       "      <th>0</th>\n",
       "      <td>66155.925100</td>\n",
       "      <td>59.017015</td>\n",
       "      <td>8106.532131</td>\n",
       "      <td>0</td>\n",
       "    </tr>\n",
       "    <tr>\n",
       "      <th>1</th>\n",
       "      <td>34415.153970</td>\n",
       "      <td>48.117153</td>\n",
       "      <td>6564.745018</td>\n",
       "      <td>0</td>\n",
       "    </tr>\n",
       "    <tr>\n",
       "      <th>2</th>\n",
       "      <td>57317.170060</td>\n",
       "      <td>63.108049</td>\n",
       "      <td>8020.953296</td>\n",
       "      <td>0</td>\n",
       "    </tr>\n",
       "    <tr>\n",
       "      <th>3</th>\n",
       "      <td>42709.534200</td>\n",
       "      <td>45.751972</td>\n",
       "      <td>6103.642260</td>\n",
       "      <td>0</td>\n",
       "    </tr>\n",
       "    <tr>\n",
       "      <th>4</th>\n",
       "      <td>66952.688850</td>\n",
       "      <td>18.584336</td>\n",
       "      <td>8770.099235</td>\n",
       "      <td>1</td>\n",
       "    </tr>\n",
       "    <tr>\n",
       "      <th>...</th>\n",
       "      <td>...</td>\n",
       "      <td>...</td>\n",
       "      <td>...</td>\n",
       "      <td>...</td>\n",
       "    </tr>\n",
       "    <tr>\n",
       "      <th>3423</th>\n",
       "      <td>60903.191726</td>\n",
       "      <td>21.933924</td>\n",
       "      <td>10367.081892</td>\n",
       "      <td>1</td>\n",
       "    </tr>\n",
       "    <tr>\n",
       "      <th>3424</th>\n",
       "      <td>62235.644695</td>\n",
       "      <td>25.033016</td>\n",
       "      <td>8083.900063</td>\n",
       "      <td>1</td>\n",
       "    </tr>\n",
       "    <tr>\n",
       "      <th>3425</th>\n",
       "      <td>25597.850590</td>\n",
       "      <td>26.350344</td>\n",
       "      <td>3810.110335</td>\n",
       "      <td>1</td>\n",
       "    </tr>\n",
       "    <tr>\n",
       "      <th>3426</th>\n",
       "      <td>48164.194974</td>\n",
       "      <td>23.141976</td>\n",
       "      <td>6529.652892</td>\n",
       "      <td>1</td>\n",
       "    </tr>\n",
       "    <tr>\n",
       "      <th>3427</th>\n",
       "      <td>33055.808635</td>\n",
       "      <td>26.289612</td>\n",
       "      <td>5351.851138</td>\n",
       "      <td>1</td>\n",
       "    </tr>\n",
       "  </tbody>\n",
       "</table>\n",
       "<p>3425 rows × 4 columns</p>\n",
       "</div>"
      ],
      "text/plain": [
       "            income        age          loan  default\n",
       "0     66155.925100  59.017015   8106.532131        0\n",
       "1     34415.153970  48.117153   6564.745018        0\n",
       "2     57317.170060  63.108049   8020.953296        0\n",
       "3     42709.534200  45.751972   6103.642260        0\n",
       "4     66952.688850  18.584336   8770.099235        1\n",
       "...            ...        ...           ...      ...\n",
       "3423  60903.191726  21.933924  10367.081892        1\n",
       "3424  62235.644695  25.033016   8083.900063        1\n",
       "3425  25597.850590  26.350344   3810.110335        1\n",
       "3426  48164.194974  23.141976   6529.652892        1\n",
       "3427  33055.808635  26.289612   5351.851138        1\n",
       "\n",
       "[3425 rows x 4 columns]"
      ]
     },
     "execution_count": 16,
     "metadata": {},
     "output_type": "execute_result"
    }
   ],
   "source": [
    "df"
   ]
  },
  {
   "cell_type": "code",
   "execution_count": 27,
   "metadata": {},
   "outputs": [],
   "source": [
    "Y = df.loc[:,\"default\"]"
   ]
  },
  {
   "cell_type": "code",
   "execution_count": 28,
   "metadata": {},
   "outputs": [],
   "source": [
    "X = df.iloc[:, 0:3]"
   ]
  },
  {
   "cell_type": "code",
   "execution_count": 29,
   "metadata": {},
   "outputs": [
    {
     "data": {
      "text/plain": [
       "0       0\n",
       "1       0\n",
       "2       0\n",
       "3       0\n",
       "4       1\n",
       "       ..\n",
       "3423    1\n",
       "3424    1\n",
       "3425    1\n",
       "3426    1\n",
       "3427    1\n",
       "Name: default, Length: 3425, dtype: int64"
      ]
     },
     "execution_count": 29,
     "metadata": {},
     "output_type": "execute_result"
    }
   ],
   "source": [
    "Y"
   ]
  },
  {
   "cell_type": "code",
   "execution_count": 33,
   "metadata": {},
   "outputs": [
    {
     "name": "stdout",
     "output_type": "stream",
     "text": [
      "            income        age         loan\n",
      "263   52757.794940  53.082214  2321.206314\n",
      "198   38053.623130  26.206880  6110.572792\n",
      "1143  26558.361060  57.833365    22.327933\n",
      "882   69465.746960  20.585232  7983.705373\n",
      "3342  25562.321031  23.355048  3096.272564\n",
      "...            ...        ...          ...\n",
      "919   56025.419730  29.396444  4341.626699\n",
      "934   66217.944850  19.081624   745.076095\n",
      "1072  52809.546290  61.013319  6276.830737\n",
      "1651  32441.652010  58.709557   840.714207\n",
      "3162  49790.144830  28.940075  7256.362154\n",
      "\n",
      "[2397 rows x 3 columns]             income        age         loan\n",
      "637   31091.276300  50.895543  4071.083034\n",
      "1005  20491.564330  35.134837  1579.168249\n",
      "2406  68706.428408  27.551071  9482.039920\n",
      "1436  29237.256200  24.597574    23.916428\n",
      "3035  36701.924055  28.029378  5653.120103\n",
      "...            ...        ...          ...\n",
      "60    32727.700730  34.474871  1087.919364\n",
      "1232  68412.609850  28.155128   551.843081\n",
      "309   51455.098450  37.285684  9447.117157\n",
      "1450  28630.009510  27.291530  4406.995056\n",
      "867   29761.046010  21.854291  3748.258124\n",
      "\n",
      "[1028 rows x 3 columns] 263     0\n",
      "198     1\n",
      "1143    0\n",
      "882     0\n",
      "3342    1\n",
      "       ..\n",
      "919     0\n",
      "934     0\n",
      "1072    0\n",
      "1651    0\n",
      "3162    1\n",
      "Name: default, Length: 2397, dtype: int64 637     0\n",
      "1005    0\n",
      "2406    1\n",
      "1436    0\n",
      "3035    1\n",
      "       ..\n",
      "60      0\n",
      "1232    0\n",
      "309     0\n",
      "1450    1\n",
      "867     1\n",
      "Name: default, Length: 1028, dtype: int64\n",
      "[[1040  144]\n",
      " [ 222  991]]\n",
      "0.8473091364205256\n",
      "[[481  46]\n",
      " [ 90 411]]\n",
      "0.867704280155642\n"
     ]
    }
   ],
   "source": [
    "#logistic regression\n",
    "from sklearn.model_selection import train_test_split\n",
    "X_train, X_test, Y_train, Y_test = train_test_split(X,Y, test_size=0.3)\n",
    "print(X_train, X_test, Y_train, Y_test )\n",
    "\n",
    "from sklearn import linear_model\n",
    "model = linear_model.LogisticRegression()\n",
    "model.fit(X_train, Y_train)\n",
    "pred = model.predict(X_train)\n",
    "\n",
    "from sklearn.metrics import confusion_matrix\n",
    "cm = confusion_matrix(Y_train, pred)\n",
    "print(cm)\n",
    "accuracy = (cm[0,0]+cm[1,1])/sum(sum(cm))\n",
    "print(accuracy)\n",
    "\n",
    "pred = model.predict(X_test)\n",
    "cm = confusion_matrix(Y_test, pred)\n",
    "print(cm)\n",
    "accuracy = (cm[0,0]+cm[1,1])/sum(sum(cm))\n",
    "print(accuracy)\n"
   ]
  },
  {
   "cell_type": "code",
   "execution_count": 43,
   "metadata": {},
   "outputs": [
    {
     "name": "stdout",
     "output_type": "stream",
     "text": [
      "[[1060  144]\n",
      " [   0 1193]]\n",
      "0.9399249061326659\n",
      "[[442  65]\n",
      " [  0 521]]\n",
      "0.9367704280155642\n"
     ]
    }
   ],
   "source": [
    "# decision tree\n",
    "from sklearn.model_selection import train_test_split\n",
    "\n",
    "X_train, X_test, Y_train, Y_test = train_test_split(X,Y, test_size=0.3)\n",
    "\n",
    "from sklearn.tree import DecisionTreeClassifier\n",
    "\n",
    "model = DecisionTreeClassifier(max_depth=3)\n",
    "model.fit(X_train,Y_train)\n",
    "pred = model.predict(X_train)\n",
    "\n",
    "from sklearn.metrics import confusion_matrix\n",
    "cm = confusion_matrix(Y_train, pred)\n",
    "print(cm)\n",
    "accuracy = (cm[0,0] + cm[1,1])/(sum(sum(cm)))\n",
    "print(accuracy)\n",
    "\n",
    "pred = model.predict(X_test)\n",
    "cm = confusion_matrix(Y_test, pred)\n",
    "print(cm)\n",
    "accuracy = (cm[0,0] + cm[1,1])/(sum(sum(cm)))\n",
    "print(accuracy)\n",
    "\n"
   ]
  },
  {
   "cell_type": "code",
   "execution_count": 46,
   "metadata": {},
   "outputs": [],
   "source": [
    "from sklearn import tree\n",
    "from sklearn import metrics"
   ]
  },
  {
   "cell_type": "code",
   "execution_count": 47,
   "metadata": {},
   "outputs": [
    {
     "name": "stdout",
     "output_type": "stream",
     "text": [
      "0\n",
      "0.12909944487358055\n",
      "1\n",
      "0.11636866703140784\n",
      "2\n",
      "0.1070436048222094\n",
      "3\n",
      "0.1070436048222094\n",
      "4\n",
      "0.1070436048222094\n",
      "5\n",
      "0.10811944697793646\n",
      "6\n",
      "0.11735905652376448\n",
      "7\n",
      "0.10826987992118652\n",
      "8\n",
      "0.11749766053620592\n",
      "9\n",
      "0.10826987992118652\n",
      "10\n",
      "0.10826987992118652\n",
      "11\n",
      "0.10826987992118652\n",
      "12\n",
      "0.11749766053620592\n",
      "13\n",
      "0.12793494398070226\n",
      "14\n",
      "0.12793494398070226\n",
      "15\n",
      "0.11951575861789981\n",
      "16\n",
      "0.12793494398070226\n",
      "17\n",
      "0.12793494398070226\n",
      "18\n",
      "0.11139317509329619\n",
      "19\n",
      "0.12038177931356171\n",
      "20\n",
      "0.11139317509329619\n",
      "21\n",
      "0.11139317509329619\n",
      "22\n",
      "0.11139317509329619\n",
      "23\n",
      "0.11139317509329619\n",
      "24\n",
      "0.12038177931356171\n",
      "25\n",
      "0.12038177931356171\n",
      "26\n",
      "0.11983452829458685\n",
      "27\n",
      "0.11983452829458685\n",
      "28\n",
      "0.11983452829458685\n",
      "29\n",
      "0.11983452829458685\n",
      "30\n",
      "0.11983452829458685\n",
      "31\n",
      "0.11983452829458685\n",
      "32\n",
      "0.11983452829458685\n",
      "33\n",
      "0.11983452829458685\n",
      "34\n",
      "0.11983452829458685\n",
      "35\n",
      "0.11983452829458685\n",
      "36\n",
      "0.11983452829458685\n",
      "37\n",
      "0.11983452829458685\n",
      "38\n",
      "0.11983452829458685\n",
      "39\n",
      "0.11885617153401075\n",
      "40\n",
      "0.11885617153401075\n",
      "41\n",
      "0.11885617153401075\n",
      "42\n",
      "0.11885617153401075\n",
      "43\n",
      "0.11885617153401075\n",
      "44\n",
      "0.11885617153401075\n",
      "45\n",
      "0.11885617153401075\n",
      "46\n",
      "0.11885617153401075\n",
      "47\n",
      "0.11885617153401075\n",
      "48\n",
      "0.14005029979019093\n",
      "49\n",
      "0.14005029979019093\n",
      "50\n",
      "0.14005029979019093\n",
      "51\n",
      "0.14005029979019093\n",
      "52\n",
      "0.14005029979019093\n",
      "53\n",
      "0.14005029979019093\n",
      "54\n",
      "0.14005029979019093\n",
      "55\n",
      "0.14005029979019093\n",
      "56\n",
      "0.14005029979019093\n",
      "57\n",
      "0.14005029979019093\n",
      "58\n",
      "0.14005029979019093\n",
      "59\n",
      "0.14005029979019093\n",
      "60\n",
      "0.14005029979019093\n",
      "61\n",
      "0.14005029979019093\n",
      "62\n",
      "0.14005029979019093\n",
      "63\n",
      "0.14005029979019093\n",
      "64\n",
      "0.14005029979019093\n",
      "65\n",
      "0.14005029979019093\n",
      "66\n",
      "0.13972517087607894\n",
      "67\n",
      "0.13972517087607894\n",
      "68\n",
      "0.13972517087607894\n",
      "69\n",
      "0.13972517087607894\n",
      "70\n",
      "0.13972517087607894\n",
      "71\n",
      "0.13972517087607894\n",
      "72\n",
      "0.13972517087607894\n",
      "73\n",
      "0.13972517087607894\n",
      "74\n",
      "0.13972517087607894\n",
      "75\n",
      "0.13972517087607894\n",
      "76\n",
      "0.13972517087607894\n",
      "77\n",
      "0.13972517087607894\n",
      "78\n",
      "0.13972517087607894\n",
      "79\n",
      "0.13972517087607894\n",
      "80\n",
      "0.13972517087607894\n",
      "81\n",
      "0.13972517087607894\n",
      "82\n",
      "0.13972517087607894\n",
      "83\n",
      "0.13972517087607894\n",
      "84\n",
      "0.13972517087607894\n",
      "85\n",
      "0.13972517087607894\n",
      "86\n",
      "0.13972517087607894\n",
      "87\n",
      "0.13972517087607894\n",
      "88\n",
      "0.13972517087607894\n",
      "89\n",
      "0.13972517087607894\n",
      "90\n",
      "0.13972517087607894\n",
      "91\n",
      "0.13972517087607894\n",
      "92\n",
      "0.13972517087607894\n",
      "93\n",
      "0.13972517087607894\n",
      "94\n",
      "0.13972517087607894\n",
      "95\n",
      "0.13972517087607894\n",
      "96\n",
      "0.13972517087607894\n",
      "97\n",
      "0.13972517087607894\n",
      "98\n",
      "0.13972517087607894\n",
      "99\n",
      "0.13972517087607894\n"
     ]
    }
   ],
   "source": [
    "#optimisation for decision tree\n",
    "\n",
    "X_train1, X_validate2, Y_train1, Y_validate2 = train_test_split(X_train, Y_train, test_size=0.2)\n",
    "\n",
    "\n",
    "for i in range(100):\n",
    "    print(i)\n",
    "    model = tree.DecisionTreeRegressor(min_samples_split = i+2)\n",
    "    model.fit(X_train1, Y_train1)\n",
    "    pred = model.predict(X_validate2)\n",
    "    rmse = metrics.mean_squared_error(Y_validate2, pred) ** 0.5\n",
    "    print(rmse)"
   ]
  },
  {
   "cell_type": "code",
   "execution_count": 48,
   "metadata": {},
   "outputs": [
    {
     "name": "stdout",
     "output_type": "stream",
     "text": [
      "[[1107  115]\n",
      " [   0 1175]]\n",
      "0.952023362536504\n",
      "[[436  53]\n",
      " [  3 536]]\n",
      "0.9455252918287937\n"
     ]
    }
   ],
   "source": [
    "#random forest\n",
    "\n",
    "from sklearn.ensemble import RandomForestClassifier\n",
    "model = RandomForestClassifier(max_depth=3)\n",
    "model.fit(X_train, Y_train)\n",
    "pred = model.predict(X_train)\n",
    "\n",
    "from sklearn.metrics import confusion_matrix\n",
    "cm = confusion_matrix(Y_train, pred)\n",
    "print(cm)\n",
    "accuracy = (cm[0,0] + cm[1,1])/sum(sum(cm))\n",
    "print(accuracy)\n",
    "\n",
    "pred = model.predict(X_test)\n",
    "cm = confusion_matrix(Y_test, pred)\n",
    "print(cm)\n",
    "accuracy = (cm[0,0] + cm[1,1])/sum(sum(cm))\n",
    "print(accuracy)\n"
   ]
  },
  {
   "cell_type": "code",
   "execution_count": 49,
   "metadata": {},
   "outputs": [
    {
     "name": "stdout",
     "output_type": "stream",
     "text": [
      "[[1219    3]\n",
      " [   0 1175]]\n",
      "0.9987484355444305\n",
      "[[480   9]\n",
      " [  0 539]]\n",
      "0.9912451361867705\n"
     ]
    }
   ],
   "source": [
    "#XGBoost\n",
    "\n",
    "from sklearn.ensemble import GradientBoostingClassifier\n",
    "model = GradientBoostingClassifier(max_depth=3)\n",
    "model.fit(X_train, Y_train)\n",
    "pred = model.predict(X_train)\n",
    "\n",
    "from sklearn.metrics import confusion_matrix\n",
    "cm = confusion_matrix(Y_train, pred)\n",
    "print(cm)\n",
    "accuracy = (cm[0,0] + cm[1,1])/sum(sum(cm))\n",
    "print(accuracy)\n",
    "\n",
    "pred = model.predict(X_test)\n",
    "cm = confusion_matrix(Y_test, pred)\n",
    "print(cm)\n",
    "accuracy = (cm[0,0] + cm[1,1])/sum(sum(cm))\n",
    "print(accuracy)\n"
   ]
  },
  {
   "cell_type": "code",
   "execution_count": 50,
   "metadata": {},
   "outputs": [
    {
     "name": "stdout",
     "output_type": "stream",
     "text": [
      "[1 1 1 ... 1 1 1]\n",
      "[[   0 1711]\n",
      " [   0 1714]]\n"
     ]
    }
   ],
   "source": [
    "#Neural network MLP\n",
    "\n",
    "from sklearn.neural_network import MLPClassifier\n",
    "model=MLPClassifier(solver=\"lbfgs\",hidden_layer_sizes=(11,12))\n",
    "model.fit(X,Y)\n",
    "pred=model.predict(X)\n",
    "print(pred)\n",
    "\n",
    "#confusion matrix\n",
    "\n",
    "from sklearn.metrics import confusion_matrix\n",
    "cm=confusion_matrix(Y,pred)\n",
    "print(cm)"
   ]
  },
  {
   "cell_type": "code",
   "execution_count": 51,
   "metadata": {},
   "outputs": [
    {
     "data": {
      "text/plain": [
       "['Creditcards']"
      ]
     },
     "execution_count": 51,
     "metadata": {},
     "output_type": "execute_result"
    }
   ],
   "source": [
    "#dump model\n",
    "\n",
    "import joblib\n",
    "joblib.dump(model,\"Creditcards\")"
   ]
  },
  {
   "cell_type": "code",
   "execution_count": null,
   "metadata": {},
   "outputs": [],
   "source": []
  }
 ],
 "metadata": {
  "kernelspec": {
   "display_name": "Python 3",
   "language": "python",
   "name": "python3"
  },
  "language_info": {
   "codemirror_mode": {
    "name": "ipython",
    "version": 3
   },
   "file_extension": ".py",
   "mimetype": "text/x-python",
   "name": "python",
   "nbconvert_exporter": "python",
   "pygments_lexer": "ipython3",
   "version": "3.7.6"
  }
 },
 "nbformat": 4,
 "nbformat_minor": 4
}
